{
 "cells": [
  {
   "cell_type": "markdown",
   "metadata": {},
   "source": [
    "# CommunityGAN"
   ]
  },
  {
   "cell_type": "code",
   "execution_count": 8,
   "metadata": {},
   "outputs": [
    {
     "name": "stdout",
     "output_type": "stream",
     "text": [
      "[Errno 2] No such file or directory: 'CommunityGAN/src/CommunityGAN'\n",
      "/home/geraud/MLNS-project/CommunityGAN/src/CommunityGAN\n"
     ]
    }
   ],
   "source": [
    "%cd CommunityGAN/src/CommunityGAN\n",
    "!cp ../../../com-youtube.txt ../../data/community_detection/youtube_agm.txt\n",
    "!cp ../../../com-youtube.txt ../../data/community_detection/youtube_train.txt\n",
    "!cp ../../../com-youtube.txt ../../data/community_detection/youtube.sampled.cmty.txt"
   ]
  },
  {
   "cell_type": "code",
   "execution_count": 9,
   "metadata": {},
   "outputs": [
    {
     "name": "stderr",
     "output_type": "stream",
     "text": [
      "/bin/sh: 1: ./magic: not found\n"
     ]
    },
    {
     "data": {
      "text/plain": [
       "127"
      ]
     },
     "execution_count": 9,
     "metadata": {},
     "output_type": "execute_result"
    }
   ],
   "source": [
    "import subprocess\n",
    "import os\n",
    "\n",
    "if not os.path.exists('../src/PreTrain/community_detection'):\n",
    "    os.makedirs('../src/PreTrain/community_detection')\n",
    "subprocess.call('./magic -i ../../data/community_detection/youtube_train.txt  -o community_detection/com-release-youtube-links_train_ -nt 20 -c 100 -mi 200', shell=True, cwd='../src/PreTrain/')\n",
    "# subprocess.call('python format_transform.py ../src/PreTrain/community_detection/com-release-youtube-links_train__final.f.txt ../pre_train/community_detection/com-release-youtube-links_train__pre_train.emb', shell=True)"
   ]
  },
  {
   "cell_type": "code",
   "execution_count": 6,
   "metadata": {},
   "outputs": [
    {
     "name": "stdout",
     "output_type": "stream",
     "text": [
      "WARNING:tensorflow:From /home/geraud/Machine-Learning-in-Network-Science/.venv/lib/python3.8/site-packages/tensorflow/python/compat/v2_compat.py:107: disable_resource_variables (from tensorflow.python.ops.variable_scope) is deprecated and will be removed in a future version.\n",
      "Instructions for updating:\n",
      "non-resource variables are not supported in the long term\n",
      "modes:\t['gen', 'dis']\n",
      "motif_size:\t3\n",
      "batch_size_gen:\t64\n",
      "batch_size_dis:\t64\n",
      "n_sample_gen:\t5\n",
      "n_sample_dis:\t5\n",
      "lr_gen:\t0.001\n",
      "lr_dis:\t0.001\n",
      "n_epochs:\t10\n",
      "n_epochs_gen:\t3\n",
      "n_epochs_dis:\t3\n",
      "gen_interval:\t3\n",
      "dis_interval:\t3\n",
      "update_ratio:\t1\n",
      "max_value:\t1000\n",
      "load_model:\tFalse\n",
      "save_steps:\t10\n",
      "n_emb:\t100\n",
      "num_threads:\t16\n",
      "window_size:\t5\n",
      "app:\tcommunity_detection\n",
      "dataset:\tcom-amazon\n",
      "train_filename:\t../../data/community_detection/com-amazon_train.txt\n",
      "pretrain_emb_filename_d:\t../../pre_train/community_detection/com-amazon_pre_train.emb\n",
      "pretrain_emb_filename_g:\t../../pre_train/community_detection/com-amazon_pre_train.emb\n",
      "community_filename:\t../../data/community_detection/com-amazon.sampled.cmty.txt\n",
      "model_log:\t../../log/\n",
      "cache_filename_prefix:\t../../cache/community_detection/com-amazon\n",
      "emb_filenames:\t['../../results/community_detection/com-amazon_gen_.emb', '../../results/community_detection/com-amazon_dis_.emb']\n",
      "result_filename:\t../../results/community_detection/com-amazon.txt\n",
      "reading graphs...\n",
      "getting motifs with size of 2\n",
      "totally 10262 motifs\n",
      "getting motifs with size of 3\n",
      "totally 10495 motifs\n",
      "reading initial embeddings...\n",
      "building GAN model...\n",
      "preparing checkpoint\n",
      "tensorflow initialization\n",
      "['gen:0.7046303744479541\\n', 'dis:0.7046303744479541\\n']\n",
      "start training...\n",
      "epoch 0\n",
      "['gen:0.7902745368131661\\n', 'dis:0.7052234647230604\\n']\n",
      "epoch 1\n",
      "['gen:0.8265755846442513\\n', 'dis:0.6887348161585386\\n']\n",
      "epoch 2\n",
      "['gen:0.84375403372269\\n', 'dis:0.6763658355016038\\n']\n",
      "epoch 3\n",
      "['gen:0.8526839866015287\\n', 'dis:0.6677998635785474\\n']\n",
      "epoch 4\n",
      "['gen:0.8586669646878251\\n', 'dis:0.6571601414583186\\n']\n",
      "epoch 5\n",
      "['gen:0.8593671826586897\\n', 'dis:0.6541293191779133\\n']\n",
      "epoch 6\n",
      "['gen:0.8611922279005899\\n', 'dis:0.6479969756036288\\n']\n",
      "epoch 7\n",
      "['gen:0.8631662750142943\\n', 'dis:0.644982387005842\\n']\n",
      "epoch 8\n",
      "['gen:0.8636544397679582\\n', 'dis:0.6396311823686078\\n']\n",
      "epoch 9\n",
      "['gen:0.8639962844143371\\n', 'dis:0.6369059286931672\\n']\n",
      "training completes\n"
     ]
    }
   ],
   "source": [
    "!python community_gan.py dataset com-amazon n_emb 100"
   ]
  },
  {
   "cell_type": "code",
   "execution_count": null,
   "metadata": {},
   "outputs": [],
   "source": [
    "# First run prepare_pretrain_embedding\n",
    "# Then run run.py"
   ]
  }
 ],
 "metadata": {
  "interpreter": {
   "hash": "9d29fc38da2d9204c47c2e6473c8f6c278c9ec81051d6e6fbf8c8947d583f375"
  },
  "kernelspec": {
   "display_name": "Python 3.8.10 ('.venv': venv)",
   "language": "python",
   "name": "python3"
  },
  "language_info": {
   "codemirror_mode": {
    "name": "ipython",
    "version": 3
   },
   "file_extension": ".py",
   "mimetype": "text/x-python",
   "name": "python",
   "nbconvert_exporter": "python",
   "pygments_lexer": "ipython3",
   "version": "3.8.10"
  },
  "orig_nbformat": 4
 },
 "nbformat": 4,
 "nbformat_minor": 2
}
