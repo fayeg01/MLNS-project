{
 "cells": [
  {
   "cell_type": "markdown",
   "metadata": {},
   "source": [
    "# Karateclub algorithms"
   ]
  },
  {
   "cell_type": "code",
   "execution_count": 1,
   "metadata": {},
   "outputs": [],
   "source": [
    "from karateclub import EgoNetSplitter\n",
    "from karateclub import LabelPropagation\n",
    "from karateclub import DANMF\n",
    "from karateclub import GEMSEC\n",
    "import networkx as nx\n",
    "import pickle\n",
    "\n",
    "import numpy as np\n",
    "\n",
    "G = nx.read_edgelist(\"com-youtube-connected\")"
   ]
  },
  {
   "cell_type": "code",
   "execution_count": 2,
   "metadata": {},
   "outputs": [],
   "source": [
    "file_indexes = [index for index in range(G.number_of_nodes())]\n",
    "graph_indexes = [i for i in range(len(file_indexes))]\n",
    "file_index_to_graph_index = dict()\n",
    "graph_index_to_file_index = dict()\n",
    "for i in range(len(file_indexes)):\n",
    "    file_index_to_graph_index[file_indexes[i]] = graph_indexes[i]\n",
    "    graph_index_to_file_index[graph_indexes[i]] = file_indexes[i]\n",
    "G = nx.convert_node_labels_to_integers(G)"
   ]
  },
  {
   "cell_type": "markdown",
   "metadata": {},
   "source": [
    "# Ego-splitting"
   ]
  },
  {
   "cell_type": "code",
   "execution_count": 4,
   "metadata": {},
   "outputs": [],
   "source": [
    "splitter = EgoNetSplitter(1.0)\n",
    "# OOM\n",
    "splitter.fit(G)\n",
    "print(splitter.get_memberships())"
   ]
  },
  {
   "cell_type": "markdown",
   "metadata": {},
   "source": [
    "# Label propagation"
   ]
  },
  {
   "cell_type": "code",
   "execution_count": 3,
   "metadata": {},
   "outputs": [],
   "source": [
    "model = LabelPropagation()\n",
    "model.fit(G)\n",
    "cluster_membership = model.get_memberships()"
   ]
  },
  {
   "cell_type": "code",
   "execution_count": 5,
   "metadata": {},
   "outputs": [],
   "source": [
    "with open('LabelPropagationPredictions.pkl', 'wb') as f:\n",
    "    pickle.dump(cluster_membership, f)"
   ]
  },
  {
   "cell_type": "markdown",
   "metadata": {},
   "source": [
    "# DANMF"
   ]
  },
  {
   "cell_type": "code",
   "execution_count": 3,
   "metadata": {},
   "outputs": [
    {
     "name": "stderr",
     "output_type": "stream",
     "text": [
      "/home/geraud/Machine-Learning-in-Network-Science/.venv/lib/python3.8/site-packages/karateclub/community_detection/overlapping/danmf.py:48: FutureWarning: adjacency_matrix will return a scipy.sparse array instead of a matrix in Networkx 3.0.\n",
      "  self._A = nx.adjacency_matrix(\n",
      "<class 'networkx.utils.decorators.argmap'> compilation 13:4: FutureWarning: laplacian_matrix will return a scipy.sparse array instead of a matrix in Networkx 3.0.\n",
      "/home/geraud/Machine-Learning-in-Network-Science/.venv/lib/python3.8/site-packages/sklearn/decomposition/_nmf.py:1637: ConvergenceWarning: Maximum number of iterations 100 reached. Increase it to improve convergence.\n",
      "  warnings.warn(\n"
     ]
    },
    {
     "ename": "MemoryError",
     "evalue": "Unable to allocate 18.8 GiB for an array with shape (2521454096,) and data type int64",
     "output_type": "error",
     "traceback": [
      "\u001b[0;31m---------------------------------------------------------------------------\u001b[0m",
      "\u001b[0;31mMemoryError\u001b[0m                               Traceback (most recent call last)",
      "\u001b[1;32m/home/geraud/MLNS-project/Ego-splitting.ipynb Cell 10'\u001b[0m in \u001b[0;36m<cell line: 2>\u001b[0;34m()\u001b[0m\n\u001b[1;32m      <a href='vscode-notebook-cell://wsl%2Bubuntu-20.04/home/geraud/MLNS-project/Ego-splitting.ipynb#ch0000009vscode-remote?line=0'>1</a>\u001b[0m model \u001b[39m=\u001b[39m DANMF()\n\u001b[0;32m----> <a href='vscode-notebook-cell://wsl%2Bubuntu-20.04/home/geraud/MLNS-project/Ego-splitting.ipynb#ch0000009vscode-remote?line=1'>2</a>\u001b[0m model\u001b[39m.\u001b[39;49mfit(G)\n\u001b[1;32m      <a href='vscode-notebook-cell://wsl%2Bubuntu-20.04/home/geraud/MLNS-project/Ego-splitting.ipynb#ch0000009vscode-remote?line=2'>3</a>\u001b[0m cluster_membership \u001b[39m=\u001b[39m model\u001b[39m.\u001b[39mget_memberships()\n",
      "File \u001b[0;32m~/Machine-Learning-in-Network-Science/.venv/lib/python3.8/site-packages/karateclub/community_detection/overlapping/danmf.py:203\u001b[0m, in \u001b[0;36mDANMF.fit\u001b[0;34m(self, graph)\u001b[0m\n\u001b[1;32m    <a href='file:///home/geraud/Machine-Learning-in-Network-Science/.venv/lib/python3.8/site-packages/karateclub/community_detection/overlapping/danmf.py?line=200'>201</a>\u001b[0m \u001b[39mself\u001b[39m\u001b[39m.\u001b[39m_setup_target_matrices(graph)\n\u001b[1;32m    <a href='file:///home/geraud/Machine-Learning-in-Network-Science/.venv/lib/python3.8/site-packages/karateclub/community_detection/overlapping/danmf.py?line=201'>202</a>\u001b[0m \u001b[39mself\u001b[39m\u001b[39m.\u001b[39m_pre_training()\n\u001b[0;32m--> <a href='file:///home/geraud/Machine-Learning-in-Network-Science/.venv/lib/python3.8/site-packages/karateclub/community_detection/overlapping/danmf.py?line=202'>203</a>\u001b[0m \u001b[39mself\u001b[39;49m\u001b[39m.\u001b[39;49m_setup_Asq()\n\u001b[1;32m    <a href='file:///home/geraud/Machine-Learning-in-Network-Science/.venv/lib/python3.8/site-packages/karateclub/community_detection/overlapping/danmf.py?line=203'>204</a>\u001b[0m \u001b[39mfor\u001b[39;00m iteration \u001b[39min\u001b[39;00m \u001b[39mrange\u001b[39m(\u001b[39mself\u001b[39m\u001b[39m.\u001b[39miterations):\n\u001b[1;32m    <a href='file:///home/geraud/Machine-Learning-in-Network-Science/.venv/lib/python3.8/site-packages/karateclub/community_detection/overlapping/danmf.py?line=204'>205</a>\u001b[0m     \u001b[39mself\u001b[39m\u001b[39m.\u001b[39m_setup_Q()\n",
      "File \u001b[0;32m~/Machine-Learning-in-Network-Science/.venv/lib/python3.8/site-packages/karateclub/community_detection/overlapping/danmf.py:170\u001b[0m, in \u001b[0;36mDANMF._setup_Asq\u001b[0;34m(self)\u001b[0m\n\u001b[1;32m    <a href='file:///home/geraud/Machine-Learning-in-Network-Science/.venv/lib/python3.8/site-packages/karateclub/community_detection/overlapping/danmf.py?line=168'>169</a>\u001b[0m \u001b[39mdef\u001b[39;00m \u001b[39m_setup_Asq\u001b[39m(\u001b[39mself\u001b[39m):\n\u001b[0;32m--> <a href='file:///home/geraud/Machine-Learning-in-Network-Science/.venv/lib/python3.8/site-packages/karateclub/community_detection/overlapping/danmf.py?line=169'>170</a>\u001b[0m     \u001b[39mself\u001b[39m\u001b[39m.\u001b[39m_A_sq \u001b[39m=\u001b[39m \u001b[39mself\u001b[39;49m\u001b[39m.\u001b[39;49m_A\u001b[39m.\u001b[39;49mdot(\u001b[39mself\u001b[39;49m\u001b[39m.\u001b[39;49m_A\u001b[39m.\u001b[39;49mT)\n",
      "File \u001b[0;32m~/Machine-Learning-in-Network-Science/.venv/lib/python3.8/site-packages/scipy/sparse/_base.py:413\u001b[0m, in \u001b[0;36mspmatrix.dot\u001b[0;34m(self, other)\u001b[0m\n\u001b[1;32m    <a href='file:///home/geraud/Machine-Learning-in-Network-Science/.venv/lib/python3.8/site-packages/scipy/sparse/_base.py?line=399'>400</a>\u001b[0m \u001b[39mdef\u001b[39;00m \u001b[39mdot\u001b[39m(\u001b[39mself\u001b[39m, other):\n\u001b[1;32m    <a href='file:///home/geraud/Machine-Learning-in-Network-Science/.venv/lib/python3.8/site-packages/scipy/sparse/_base.py?line=400'>401</a>\u001b[0m     \u001b[39m\"\"\"Ordinary dot product\u001b[39;00m\n\u001b[1;32m    <a href='file:///home/geraud/Machine-Learning-in-Network-Science/.venv/lib/python3.8/site-packages/scipy/sparse/_base.py?line=401'>402</a>\u001b[0m \n\u001b[1;32m    <a href='file:///home/geraud/Machine-Learning-in-Network-Science/.venv/lib/python3.8/site-packages/scipy/sparse/_base.py?line=402'>403</a>\u001b[0m \u001b[39m    Examples\u001b[39;00m\n\u001b[0;32m   (...)\u001b[0m\n\u001b[1;32m    <a href='file:///home/geraud/Machine-Learning-in-Network-Science/.venv/lib/python3.8/site-packages/scipy/sparse/_base.py?line=410'>411</a>\u001b[0m \n\u001b[1;32m    <a href='file:///home/geraud/Machine-Learning-in-Network-Science/.venv/lib/python3.8/site-packages/scipy/sparse/_base.py?line=411'>412</a>\u001b[0m \u001b[39m    \"\"\"\u001b[39;00m\n\u001b[0;32m--> <a href='file:///home/geraud/Machine-Learning-in-Network-Science/.venv/lib/python3.8/site-packages/scipy/sparse/_base.py?line=412'>413</a>\u001b[0m     \u001b[39mreturn\u001b[39;00m \u001b[39mself\u001b[39;49m \u001b[39m@\u001b[39;49m other\n",
      "File \u001b[0;32m~/Machine-Learning-in-Network-Science/.venv/lib/python3.8/site-packages/scipy/sparse/_base.py:620\u001b[0m, in \u001b[0;36mspmatrix.__matmul__\u001b[0;34m(self, other)\u001b[0m\n\u001b[1;32m    <a href='file:///home/geraud/Machine-Learning-in-Network-Science/.venv/lib/python3.8/site-packages/scipy/sparse/_base.py?line=616'>617</a>\u001b[0m \u001b[39mif\u001b[39;00m isscalarlike(other):\n\u001b[1;32m    <a href='file:///home/geraud/Machine-Learning-in-Network-Science/.venv/lib/python3.8/site-packages/scipy/sparse/_base.py?line=617'>618</a>\u001b[0m     \u001b[39mraise\u001b[39;00m \u001b[39mValueError\u001b[39;00m(\u001b[39m\"\u001b[39m\u001b[39mScalar operands are not allowed, \u001b[39m\u001b[39m\"\u001b[39m\n\u001b[1;32m    <a href='file:///home/geraud/Machine-Learning-in-Network-Science/.venv/lib/python3.8/site-packages/scipy/sparse/_base.py?line=618'>619</a>\u001b[0m                      \u001b[39m\"\u001b[39m\u001b[39muse \u001b[39m\u001b[39m'\u001b[39m\u001b[39m*\u001b[39m\u001b[39m'\u001b[39m\u001b[39m instead\u001b[39m\u001b[39m\"\u001b[39m)\n\u001b[0;32m--> <a href='file:///home/geraud/Machine-Learning-in-Network-Science/.venv/lib/python3.8/site-packages/scipy/sparse/_base.py?line=619'>620</a>\u001b[0m \u001b[39mreturn\u001b[39;00m \u001b[39mself\u001b[39;49m\u001b[39m.\u001b[39;49m_mul_dispatch(other)\n",
      "File \u001b[0;32m~/Machine-Learning-in-Network-Science/.venv/lib/python3.8/site-packages/scipy/sparse/_base.py:534\u001b[0m, in \u001b[0;36mspmatrix._mul_dispatch\u001b[0;34m(self, other)\u001b[0m\n\u001b[1;32m    <a href='file:///home/geraud/Machine-Learning-in-Network-Science/.venv/lib/python3.8/site-packages/scipy/sparse/_base.py?line=531'>532</a>\u001b[0m     \u001b[39mif\u001b[39;00m \u001b[39mself\u001b[39m\u001b[39m.\u001b[39mshape[\u001b[39m1\u001b[39m] \u001b[39m!=\u001b[39m other\u001b[39m.\u001b[39mshape[\u001b[39m0\u001b[39m]:\n\u001b[1;32m    <a href='file:///home/geraud/Machine-Learning-in-Network-Science/.venv/lib/python3.8/site-packages/scipy/sparse/_base.py?line=532'>533</a>\u001b[0m         \u001b[39mraise\u001b[39;00m \u001b[39mValueError\u001b[39;00m(\u001b[39m'\u001b[39m\u001b[39mdimension mismatch\u001b[39m\u001b[39m'\u001b[39m)\n\u001b[0;32m--> <a href='file:///home/geraud/Machine-Learning-in-Network-Science/.venv/lib/python3.8/site-packages/scipy/sparse/_base.py?line=533'>534</a>\u001b[0m     \u001b[39mreturn\u001b[39;00m \u001b[39mself\u001b[39;49m\u001b[39m.\u001b[39;49m_mul_sparse_matrix(other)\n\u001b[1;32m    <a href='file:///home/geraud/Machine-Learning-in-Network-Science/.venv/lib/python3.8/site-packages/scipy/sparse/_base.py?line=535'>536</a>\u001b[0m \u001b[39m# If it's a list or whatever, treat it like a matrix\u001b[39;00m\n\u001b[1;32m    <a href='file:///home/geraud/Machine-Learning-in-Network-Science/.venv/lib/python3.8/site-packages/scipy/sparse/_base.py?line=536'>537</a>\u001b[0m other_a \u001b[39m=\u001b[39m np\u001b[39m.\u001b[39masanyarray(other)\n",
      "File \u001b[0;32m~/Machine-Learning-in-Network-Science/.venv/lib/python3.8/site-packages/scipy/sparse/_compressed.py:529\u001b[0m, in \u001b[0;36m_cs_matrix._mul_sparse_matrix\u001b[0;34m(self, other)\u001b[0m\n\u001b[1;32m    <a href='file:///home/geraud/Machine-Learning-in-Network-Science/.venv/lib/python3.8/site-packages/scipy/sparse/_compressed.py?line=523'>524</a>\u001b[0m idx_dtype \u001b[39m=\u001b[39m get_index_dtype((\u001b[39mself\u001b[39m\u001b[39m.\u001b[39mindptr, \u001b[39mself\u001b[39m\u001b[39m.\u001b[39mindices,\n\u001b[1;32m    <a href='file:///home/geraud/Machine-Learning-in-Network-Science/.venv/lib/python3.8/site-packages/scipy/sparse/_compressed.py?line=524'>525</a>\u001b[0m                              other\u001b[39m.\u001b[39mindptr, other\u001b[39m.\u001b[39mindices),\n\u001b[1;32m    <a href='file:///home/geraud/Machine-Learning-in-Network-Science/.venv/lib/python3.8/site-packages/scipy/sparse/_compressed.py?line=525'>526</a>\u001b[0m                             maxval\u001b[39m=\u001b[39mnnz)\n\u001b[1;32m    <a href='file:///home/geraud/Machine-Learning-in-Network-Science/.venv/lib/python3.8/site-packages/scipy/sparse/_compressed.py?line=527'>528</a>\u001b[0m indptr \u001b[39m=\u001b[39m np\u001b[39m.\u001b[39mempty(major_axis \u001b[39m+\u001b[39m \u001b[39m1\u001b[39m, dtype\u001b[39m=\u001b[39midx_dtype)\n\u001b[0;32m--> <a href='file:///home/geraud/Machine-Learning-in-Network-Science/.venv/lib/python3.8/site-packages/scipy/sparse/_compressed.py?line=528'>529</a>\u001b[0m indices \u001b[39m=\u001b[39m np\u001b[39m.\u001b[39;49mempty(nnz, dtype\u001b[39m=\u001b[39;49midx_dtype)\n\u001b[1;32m    <a href='file:///home/geraud/Machine-Learning-in-Network-Science/.venv/lib/python3.8/site-packages/scipy/sparse/_compressed.py?line=529'>530</a>\u001b[0m data \u001b[39m=\u001b[39m np\u001b[39m.\u001b[39mempty(nnz, dtype\u001b[39m=\u001b[39mupcast(\u001b[39mself\u001b[39m\u001b[39m.\u001b[39mdtype, other\u001b[39m.\u001b[39mdtype))\n\u001b[1;32m    <a href='file:///home/geraud/Machine-Learning-in-Network-Science/.venv/lib/python3.8/site-packages/scipy/sparse/_compressed.py?line=531'>532</a>\u001b[0m fn \u001b[39m=\u001b[39m \u001b[39mgetattr\u001b[39m(_sparsetools, \u001b[39mself\u001b[39m\u001b[39m.\u001b[39mformat \u001b[39m+\u001b[39m \u001b[39m'\u001b[39m\u001b[39m_matmat\u001b[39m\u001b[39m'\u001b[39m)\n",
      "\u001b[0;31mMemoryError\u001b[0m: Unable to allocate 18.8 GiB for an array with shape (2521454096,) and data type int64"
     ]
    }
   ],
   "source": [
    "model = DANMF()\n",
    "# OOM\n",
    "model.fit(G)\n",
    "cluster_membership = model.get_memberships()"
   ]
  },
  {
   "cell_type": "code",
   "execution_count": null,
   "metadata": {},
   "outputs": [],
   "source": [
    "import pickle"
   ]
  },
  {
   "cell_type": "code",
   "execution_count": null,
   "metadata": {},
   "outputs": [],
   "source": [
    "with open('DANMFPredictions.pkl', 'wb') as f:\n",
    "    pickle.dump(cluster_membership, f)"
   ]
  },
  {
   "cell_type": "markdown",
   "metadata": {},
   "source": [
    "# GEMSEC"
   ]
  },
  {
   "cell_type": "code",
   "execution_count": 3,
   "metadata": {},
   "outputs": [],
   "source": [
    "model = GEMSEC()\n",
    "# OOM\n",
    "model.fit(G)\n",
    "cluster_membership = model.get_memberships()"
   ]
  },
  {
   "cell_type": "code",
   "execution_count": null,
   "metadata": {},
   "outputs": [],
   "source": [
    "with open('GEMSECPredictions.pkl', 'wb') as f:\n",
    "    pickle.dump(cluster_membership, f)"
   ]
  },
  {
   "cell_type": "markdown",
   "metadata": {},
   "source": [
    "# Evaluation"
   ]
  },
  {
   "cell_type": "markdown",
   "metadata": {},
   "source": [
    "from sklearn.metrics.cluster import normalized_mutual_info_score\n",
    "\n",
    "with open('LabelPropagationPredictions.pkl', 'rb') as f:\n",
    "    cluster_membership = pickle.load(f)\n",
    "\n",
    "cluster_membership = [cluster_membership[node] for node in range(len(cluster_membership))]\n",
    "\n",
    "nmi = normalized_mutual_info_score(target, cluster_membership)\n",
    "print('NMI: {:.4f}'.format(nmi))"
   ]
  }
 ],
 "metadata": {
  "interpreter": {
   "hash": "9d29fc38da2d9204c47c2e6473c8f6c278c9ec81051d6e6fbf8c8947d583f375"
  },
  "kernelspec": {
   "display_name": "Python 3.8.10 ('.venv': venv)",
   "language": "python",
   "name": "python3"
  },
  "language_info": {
   "codemirror_mode": {
    "name": "ipython",
    "version": 3
   },
   "file_extension": ".py",
   "mimetype": "text/x-python",
   "name": "python",
   "nbconvert_exporter": "python",
   "pygments_lexer": "ipython3",
   "version": "3.8.10"
  },
  "orig_nbformat": 4
 },
 "nbformat": 4,
 "nbformat_minor": 2
}
