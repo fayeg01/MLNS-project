{
 "cells": [
  {
   "cell_type": "markdown",
   "metadata": {},
   "source": [
    "# Karateclub algorithms"
   ]
  },
  {
   "cell_type": "code",
   "execution_count": 12,
   "metadata": {},
   "outputs": [],
   "source": [
    "from karateclub import EgoNetSplitter\n",
    "from karateclub import LabelPropagation\n",
    "from karateclub import DANMF\n",
    "from karateclub import GEMSEC\n",
    "import networkx as nx\n",
    "import matplotlib.pyplot as plt\n",
    "import pickle\n",
    "\n",
    "import numpy as np\n",
    "\n",
    "G = nx.read_edgelist(\"./pruned_connected_youtube/release-youtube-links.txt\")"
   ]
  },
  {
   "cell_type": "code",
   "execution_count": 15,
   "metadata": {},
   "outputs": [],
   "source": [
    "file_indexes = [index for index in range(G.number_of_nodes())]\n",
    "graph_indexes = [i for i in range(len(file_indexes))]\n",
    "file_index_to_graph_index = dict()\n",
    "graph_index_to_file_index = dict()\n",
    "for i in range(len(file_indexes)):\n",
    "    file_index_to_graph_index[file_indexes[i]] = graph_indexes[i]\n",
    "    graph_index_to_file_index[graph_indexes[i]] = file_indexes[i]\n",
    "G = nx.convert_node_labels_to_integers(G)"
   ]
  },
  {
   "cell_type": "markdown",
   "metadata": {},
   "source": [
    "# Ego-splitting"
   ]
  },
  {
   "cell_type": "code",
   "execution_count": 29,
   "metadata": {},
   "outputs": [
    {
     "data": {
      "image/png": "[encoded data removed]",
      "text/plain": [
       "<Figure size 432x288 with 1 Axes>"
      ]
     },
     "metadata": {
      "needs_background": "light"
     },
     "output_type": "display_data"
    }
   ],
   "source": [
    "to_test_vals = [(0.6 + 0.005*i) for i in range(0, 20)]\n",
    "com_detected = []\n",
    "for value in to_test_vals:\n",
    "    splitter = EgoNetSplitter(value)\n",
    "    splitter.fit(G)\n",
    "    cluster_membership = splitter.get_memberships()\n",
    "    comms = list(cluster_membership.values())\n",
    "    for i in range(len(comms)):\n",
    "        comms[i] = comms[i][0]\n",
    "    com_detected.append(np.amax(comms) - 1)\n",
    "plt.plot(to_test_vals, com_detected)\n",
    "plt.title(\"Detected number of communities over parameter\")\n",
    "plt.show()"
   ]
  },
  {
   "cell_type": "code",
   "execution_count": 50,
   "metadata": {},
   "outputs": [
    {
     "name": "stdout",
     "output_type": "stream",
     "text": [
      "Detected 177 communities.\n"
     ]
    }
   ],
   "source": [
    "splitter = EgoNetSplitter(0.605)\n",
    "splitter.fit(G)\n",
    "cluster_membership = splitter.get_memberships()\n",
    "comms = list(cluster_membership.values())\n",
    "for i in range(len(comms)):\n",
    "    cluster_membership[i] = comms[i][0]\n",
    "print(f\"Detected {np.amax(comms) - 1} communities.\")"
   ]
  },
  {
   "cell_type": "code",
   "execution_count": 51,
   "metadata": {},
   "outputs": [],
   "source": [
    "with open('EgoSplittingPredictions_0.605.pkl', 'wb') as f:\n",
    "    pickle.dump(cluster_membership, f)"
   ]
  },
  {
   "cell_type": "markdown",
   "metadata": {},
   "source": [
    "# Label propagation"
   ]
  },
  {
   "cell_type": "code",
   "execution_count": 38,
   "metadata": {},
   "outputs": [
    {
     "name": "stdout",
     "output_type": "stream",
     "text": [
      "Detected 437 communities.\n"
     ]
    }
   ],
   "source": [
    "model = LabelPropagation()\n",
    "model.fit(G)\n",
    "cluster_membership = model.get_memberships()\n",
    "comms = list(cluster_membership.values())\n",
    "print(f\"Detected {len(set(comms))} communities.\")"
   ]
  },
  {
   "cell_type": "code",
   "execution_count": 39,
   "metadata": {},
   "outputs": [],
   "source": [
    "with open('LabelPropagationPredictions.pkl', 'wb') as f:\n",
    "    pickle.dump(cluster_membership, f)"
   ]
  },
  {
   "cell_type": "markdown",
   "metadata": {},
   "source": [
    "# DANMF"
   ]
  },
  {
   "cell_type": "code",
   "execution_count": 40,
   "metadata": {},
   "outputs": [
    {
     "name": "stderr",
     "output_type": "stream",
     "text": [
      "/home/geraud/Machine-Learning-in-Network-Science/.venv/lib/python3.8/site-packages/karateclub/community_detection/overlapping/danmf.py:48: FutureWarning: adjacency_matrix will return a scipy.sparse array instead of a matrix in Networkx 3.0.\n",
      "  self._A = nx.adjacency_matrix(\n",
      "<class 'networkx.utils.decorators.argmap'> compilation 17:4: FutureWarning: laplacian_matrix will return a scipy.sparse array instead of a matrix in Networkx 3.0.\n",
      "/home/geraud/Machine-Learning-in-Network-Science/.venv/lib/python3.8/site-packages/sklearn/decomposition/_nmf.py:1637: ConvergenceWarning: Maximum number of iterations 100 reached. Increase it to improve convergence.\n",
      "  warnings.warn(\n",
      "/home/geraud/Machine-Learning-in-Network-Science/.venv/lib/python3.8/site-packages/sklearn/decomposition/_nmf.py:1637: ConvergenceWarning: Maximum number of iterations 100 reached. Increase it to improve convergence.\n",
      "  warnings.warn(\n"
     ]
    },
    {
     "name": "stdout",
     "output_type": "stream",
     "text": [
      "Detected 8 communities.\n"
     ]
    }
   ],
   "source": [
    "model = DANMF()\n",
    "# OOM\n",
    "model.fit(G)\n",
    "cluster_membership = model.get_memberships()\n",
    "comms = list(cluster_membership.values())\n",
    "print(f\"Detected {len(set(comms))} communities.\")"
   ]
  },
  {
   "cell_type": "code",
   "execution_count": 41,
   "metadata": {},
   "outputs": [],
   "source": [
    "with open('DANMFPredictions.pkl', 'wb') as f:\n",
    "    pickle.dump(cluster_membership, f)"
   ]
  },
  {
   "cell_type": "markdown",
   "metadata": {},
   "source": [
    "# GEMSEC"
   ]
  },
  {
   "cell_type": "code",
   "execution_count": 13,
   "metadata": {},
   "outputs": [
    {
     "name": "stdout",
     "output_type": "stream",
     "text": [
      "Detected 10 communities.\n",
      "Detected 50 communities.\n",
      "Detected 100 communities.\n",
      "Detected 299 communities.\n"
     ]
    }
   ],
   "source": [
    "clusters = [10, 50, 100, 300]\n",
    "for cluster in clusters:\n",
    "    model = GEMSEC(clusters=cluster)\n",
    "    model.fit(G)\n",
    "    cluster_membership = model.get_memberships()\n",
    "    comms = list(cluster_membership.values())\n",
    "    print(f\"Detected {len(set(comms))} communities.\")\n",
    "    with open(f'GEMSECPredictions_{cluster}.pkl', 'wb') as f:\n",
    "        pickle.dump(cluster_membership, f) "
   ]
  },
  {
   "cell_type": "code",
   "execution_count": 43,
   "metadata": {},
   "outputs": [],
   "source": [
    "with open('GEMSECPredictions.pkl', 'wb') as f:\n",
    "    pickle.dump(cluster_membership, f)"
   ]
  },
  {
   "cell_type": "markdown",
   "metadata": {},
   "source": [
    "# Extended modularity on predictions"
   ]
  },
  {
   "cell_type": "code",
   "execution_count": 49,
   "metadata": {},
   "outputs": [],
   "source": [
    "with open('EgoSplittingPredictions_0.605.pkl', 'rb') as f:\n",
    "    ego_split_cluster_membership = pickle.load(f)\n",
    "with open('LabelPropagationPredictions.pkl', 'rb') as f:\n",
    "    label_prop_cluster_membership = pickle.load(f)\n",
    "with open('DANMFPredictions.pkl', 'rb') as f:\n",
    "    danmf_cluster_membership = pickle.load(f)"
   ]
  },
  {
   "cell_type": "code",
   "execution_count": 17,
   "metadata": {},
   "outputs": [
    {
     "name": "stdout",
     "output_type": "stream",
     "text": [
      "modularity: nan\n"
     ]
    }
   ],
   "source": [
    "# from extended_modularity import EQ_Newman\n",
    "\n",
    "# with open(\"./pruned_connected_youtube/release-youtube.cmty.txt\") as f:\n",
    "#     ground_truth = f.readlines()\n",
    "# for i in range(len(ground_truth)):\n",
    "#     ground_truth[i] = ground_truth[i].split()\n",
    "#     for j in range(len(ground_truth[i])):\n",
    "#         ground_truth[i][j] = file_index_to_graph_index[int(ground_truth[i][j])]\n",
    "# # print(ground_truth)\n",
    "# mod = EQ_Newman(G, ground_truth)\n",
    "\n",
    "# print('modularity: {:.4f}'.format(mod))"
   ]
  },
  {
   "cell_type": "code",
   "execution_count": 51,
   "metadata": {},
   "outputs": [
    {
     "name": "stdout",
     "output_type": "stream",
     "text": [
      "modularity: 0.3035\n"
     ]
    }
   ],
   "source": [
    "with open('LabelPropagationPredictions.pkl', 'rb') as f:\n",
    "    cluster_membership = pickle.load(f)\n",
    "n_communities = len(set(cluster_membership.values()))\n",
    "communities = [[] for i in range(n_communities)]\n",
    "previous_indexes = list(set(cluster_membership.values()))\n",
    "new_index = [i for i in range(n_communities)]\n",
    "conversion_dict = dict()\n",
    "for i in range(len(previous_indexes)):\n",
    "    conversion_dict[previous_indexes[i]] = new_index[i]\n",
    "for key in cluster_membership:\n",
    "    communities[conversion_dict[cluster_membership[key]]].append(int(key))\n",
    "# print(len(communities))\n",
    "mod = EQ_Newman(G, communities)\n",
    "\n",
    "print('modularity: {:.4f}'.format(mod))"
   ]
  },
  {
   "cell_type": "code",
   "execution_count": 5,
   "metadata": {},
   "outputs": [
    {
     "name": "stdout",
     "output_type": "stream",
     "text": [
      "modularity: 0.0559\n"
     ]
    }
   ],
   "source": [
    "with open('EgoSplittingPredictions_0.605.pkl', 'rb') as f:\n",
    "    cluster_membership = pickle.load(f)\n",
    "n_communities = len(set(cluster_membership.values()))\n",
    "communities = [[] for i in range(n_communities)]\n",
    "previous_indexes = list(set(cluster_membership.values()))\n",
    "new_index = [i for i in range(n_communities)]\n",
    "conversion_dict = dict()\n",
    "for i in range(len(previous_indexes)):\n",
    "    conversion_dict[previous_indexes[i]] = new_index[i]\n",
    "for key in cluster_membership:\n",
    "    communities[conversion_dict[cluster_membership[key]]].append(int(key))\n",
    "# print(len(communities))\n",
    "mod = EQ_Newman(G, communities)\n",
    "\n",
    "print('modularity: {:.4f}'.format(mod))"
   ]
  },
  {
   "cell_type": "code",
   "execution_count": 6,
   "metadata": {},
   "outputs": [
    {
     "name": "stdout",
     "output_type": "stream",
     "text": [
      "modularity: 0.2072\n"
     ]
    }
   ],
   "source": [
    "clusters = [10, 50, 100, 300]\n",
    "for cluster in clusters:\n",
    "    with open(f'GEMSECPredictions_{cluster}.pkl', 'rb') as f:\n",
    "        cluster_membership = pickle.load(f)\n",
    "    n_communities = len(set(cluster_membership.values()))\n",
    "    communities = [[] for i in range(n_communities)]\n",
    "    previous_indexes = list(set(cluster_membership.values()))\n",
    "    new_index = [i for i in range(n_communities)]\n",
    "    conversion_dict = dict()\n",
    "    for i in range(len(previous_indexes)):\n",
    "        conversion_dict[previous_indexes[i]] = new_index[i]\n",
    "    for key in cluster_membership:\n",
    "        communities[conversion_dict[cluster_membership[key]]].append(int(key))\n",
    "    # print(len(communities))\n",
    "    mod = EQ_Newman(G, communities)\n",
    "\n",
    "    print('GEMSEC ({cluster} clusters) modularity: {:.4f}'.format(mod))"
   ]
  },
  {
   "cell_type": "code",
   "execution_count": 7,
   "metadata": {},
   "outputs": [
    {
     "name": "stdout",
     "output_type": "stream",
     "text": [
      "modularity: 0.1306\n"
     ]
    }
   ],
   "source": [
    "with open('LabelPropagationPredictions.pkl', 'rb') as f:\n",
    "    cluster_membership = pickle.load(f)\n",
    "n_communities = len(set(cluster_membership.values()))\n",
    "communities = [[] for i in range(n_communities)]\n",
    "previous_indexes = list(set(cluster_membership.values()))\n",
    "new_index = [i for i in range(n_communities)]\n",
    "conversion_dict = dict()\n",
    "for i in range(len(previous_indexes)):\n",
    "    conversion_dict[previous_indexes[i]] = new_index[i]\n",
    "for key in cluster_membership:\n",
    "    communities[conversion_dict[cluster_membership[key]]].append(int(key))\n",
    "# print(len(communities))\n",
    "mod = EQ_Newman(G, communities)\n",
    "\n",
    "print('modularity: {:.4f}'.format(mod))"
   ]
  },
  {
   "cell_type": "markdown",
   "metadata": {},
   "source": [
    "# Computing overlapping normalized mutual information"
   ]
  },
  {
   "cell_type": "code",
   "execution_count": 18,
   "metadata": {},
   "outputs": [],
   "source": [
    "with open(\"./pruned_connected_youtube/release-youtube.cmty.txt\") as f:\n",
    "    ground_truth = f.readlines()\n",
    "for i in range(len(ground_truth)):\n",
    "    ground_truth[i] = ground_truth[i].split()\n",
    "    for j in range(len(ground_truth[i])):\n",
    "        # ground_truth[i][j] = int(ground_truth[i][j])\n",
    "        ground_truth[i][j] = file_index_to_graph_index[int(ground_truth[i][j])]\n",
    "    ground_truth[i] = set(ground_truth[i])"
   ]
  },
  {
   "cell_type": "code",
   "execution_count": 19,
   "metadata": {},
   "outputs": [
    {
     "name": "stdout",
     "output_type": "stream",
     "text": [
      "############### GEMSEC results ###############\n",
      "Cluster:10\t\tONMI score: 0.0017857365773017442\n",
      "Cluster:50\t\tONMI score: 0.002017350695510567\n",
      "Cluster:100\t\tONMI score: 0.0\n",
      "Cluster:300\t\tONMI score: 0.0\n"
     ]
    }
   ],
   "source": [
    "from cdlib.evaluation.internal import onmi\n",
    "\n",
    "clusters = [10, 50, 100, 300]\n",
    "\n",
    "print(\"############### GEMSEC results ###############\")\n",
    "for cluster in clusters:\n",
    "    with open(f'GEMSECPredictions_{cluster}.pkl', 'rb') as f:\n",
    "        cluster_membership = pickle.load(f)\n",
    "    n_communities = len(set(cluster_membership.values()))\n",
    "    communities = [[] for i in range(n_communities)]\n",
    "    previous_indexes = list(set(cluster_membership.values()))\n",
    "    new_index = [i for i in range(n_communities)]\n",
    "    conversion_dict = dict()\n",
    "    for i in range(len(previous_indexes)):\n",
    "        conversion_dict[previous_indexes[i]] = new_index[i]\n",
    "    for key in cluster_membership:\n",
    "        communities[conversion_dict[cluster_membership[key]]].append(int(key))\n",
    "    for i in range(len(communities)):\n",
    "        communities[i] = set(communities[i])\n",
    "    score=onmi.onmi(\n",
    "        ground_truth,\n",
    "        communities,\n",
    "    )\n",
    "    print(f\"Cluster:{cluster}\\t\\tONMI score: {score}\")"
   ]
  },
  {
   "cell_type": "code",
   "execution_count": 20,
   "metadata": {},
   "outputs": [
    {
     "name": "stdout",
     "output_type": "stream",
     "text": [
      "############### Ego-Splitting results ###############\n",
      "Community detected: 179\t\tONMI score: 0.0\n"
     ]
    }
   ],
   "source": [
    "print(\"############### Ego-Splitting results ###############\")\n",
    "with open(f'EgoSplittingPredictions_0.605.pkl', 'rb') as f:\n",
    "    cluster_membership = pickle.load(f)\n",
    "n_communities = len(set(cluster_membership.values()))\n",
    "communities = [[] for i in range(n_communities)]\n",
    "previous_indexes = list(set(cluster_membership.values()))\n",
    "new_index = [i for i in range(n_communities)]\n",
    "conversion_dict = dict()\n",
    "for i in range(len(previous_indexes)):\n",
    "    conversion_dict[previous_indexes[i]] = new_index[i]\n",
    "for key in cluster_membership:\n",
    "    communities[conversion_dict[cluster_membership[key]]].append(int(key))\n",
    "for i in range(len(communities)):\n",
    "    communities[i] = set(communities[i])\n",
    "score=onmi.onmi(\n",
    "    ground_truth,\n",
    "    communities,\n",
    ")\n",
    "print(f\"Community detected: {n_communities}\\t\\tONMI score: {score}\")"
   ]
  },
  {
   "cell_type": "code",
   "execution_count": 21,
   "metadata": {},
   "outputs": [
    {
     "name": "stdout",
     "output_type": "stream",
     "text": [
      "############### Label propagation results ###############\n",
      "Community detected: 437\t\tONMI score: 0.0027962479275120966\n"
     ]
    }
   ],
   "source": [
    "print(\"############### Label propagation results ###############\")\n",
    "with open(f'LabelPropagationPredictions.pkl', 'rb') as f:\n",
    "    cluster_membership = pickle.load(f)\n",
    "n_communities = len(set(cluster_membership.values()))\n",
    "communities = [[] for i in range(n_communities)]\n",
    "previous_indexes = list(set(cluster_membership.values()))\n",
    "new_index = [i for i in range(n_communities)]\n",
    "conversion_dict = dict()\n",
    "for i in range(len(previous_indexes)):\n",
    "    conversion_dict[previous_indexes[i]] = new_index[i]\n",
    "for key in cluster_membership:\n",
    "    communities[conversion_dict[cluster_membership[key]]].append(int(key))\n",
    "for i in range(len(communities)):\n",
    "    communities[i] = set(communities[i])\n",
    "score=onmi.onmi(\n",
    "    ground_truth,\n",
    "    communities,\n",
    ")\n",
    "print(f\"Community detected: {n_communities}\\t\\tONMI score: {score}\")"
   ]
  },
  {
   "cell_type": "code",
   "execution_count": 22,
   "metadata": {},
   "outputs": [
    {
     "name": "stdout",
     "output_type": "stream",
     "text": [
      "############### DANMF results ###############\n",
      "Community detected: 8\t\tONMI score: 0.0\n"
     ]
    }
   ],
   "source": [
    "print(\"############### DANMF results ###############\")\n",
    "with open(f'DANMFPredictions.pkl', 'rb') as f:\n",
    "    cluster_membership = pickle.load(f)\n",
    "n_communities = len(set(cluster_membership.values()))\n",
    "communities = [[] for i in range(n_communities)]\n",
    "previous_indexes = list(set(cluster_membership.values()))\n",
    "new_index = [i for i in range(n_communities)]\n",
    "conversion_dict = dict()\n",
    "for i in range(len(previous_indexes)):\n",
    "    conversion_dict[previous_indexes[i]] = i\n",
    "for key in cluster_membership:\n",
    "    communities[conversion_dict[cluster_membership[key]]].append(key)\n",
    "for i in range(len(communities)):\n",
    "    communities[i] = set(communities[i])\n",
    "score=onmi.onmi(\n",
    "    ground_truth,\n",
    "    communities,\n",
    ")\n",
    "print(f\"Community detected: {n_communities}\\t\\tONMI score: {score}\")"
   ]
  },
  {
   "cell_type": "code",
   "execution_count": null,
   "metadata": {},
   "outputs": [],
   "source": []
  }
 ],
 "metadata": {
  "interpreter": {
   "hash": "9d29fc38da2d9204c47c2e6473c8f6c278c9ec81051d6e6fbf8c8947d583f375"
  },
  "kernelspec": {
   "display_name": "Python 3.8.10 ('.venv': venv)",
   "language": "python",
   "name": "python3"
  },
  "language_info": {
   "codemirror_mode": {
    "name": "ipython",
    "version": 3
   },
   "file_extension": ".py",
   "mimetype": "text/x-python",
   "name": "python",
   "nbconvert_exporter": "python",
   "pygments_lexer": "ipython3",
   "version": "3.8.10"
  },
  "orig_nbformat": 4
 },
 "nbformat": 4,
 "nbformat_minor": 2
}
