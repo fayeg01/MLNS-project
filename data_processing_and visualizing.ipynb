{
  "cells": [
    {
      "cell_type": "markdown",
      "metadata": {
        "id": "lM1to7rogN4A"
      },
      "source": [
        "# Downloading data"
      ]
    },
    {
      "cell_type": "code",
      "execution_count": 6,
      "metadata": {
        "colab": {
          "base_uri": "https://localhost:8080/"
        },
        "id": "ma2c_U7gfw4Q",
        "outputId": "07ec8e8e-c119-46ea-b78a-8428b535e2e8"
      },
      "outputs": [
        {
          "name": "stdout",
          "output_type": "stream",
          "text": [
            "--2022-03-19 08:24:14--  https://snap.stanford.edu/data/bigdata/communities/com-youtube.all.cmty.txt.gz\n",
            "Resolving snap.stanford.edu (snap.stanford.edu)... 171.64.75.80, 198.41.0.4, 199.9.14.201, ...\n",
            "Connecting to snap.stanford.edu (snap.stanford.edu)|171.64.75.80|:443... connected.\n",
            "HTTP request sent, awaiting response... 200 OK\n",
            "Length: 341486 (333K) [application/x-gzip]\n",
            "Saving to: ‘com-youtube.all.cmty.txt.gz’\n",
            "\n",
            "com-youtube.all.cmt 100%[===================>] 333.48K  52.9KB/s    in 6.3s    \n",
            "\n",
            "2022-03-19 08:24:25 (52.9 KB/s) - ‘com-youtube.all.cmty.txt.gz’ saved [341486/341486]\n",
            "\n",
            "--2022-03-19 08:24:26--  https://snap.stanford.edu/data/bigdata/communities/com-youtube.top5000.cmty.txt.gz\n",
            "Resolving snap.stanford.edu (snap.stanford.edu)... 171.64.75.80, 198.41.0.4, 199.9.14.201, ...\n",
            "Connecting to snap.stanford.edu (snap.stanford.edu)|171.64.75.80|:443... connected.\n",
            "HTTP request sent, awaiting response... 200 OK\n",
            "Length: 195662 (191K) [application/x-gzip]\n",
            "Saving to: ‘com-youtube.top5000.cmty.txt.gz’\n",
            "\n",
            "com-youtube.top5000 100%[===================>] 191.08K   195KB/s    in 1.0s    \n",
            "\n",
            "2022-03-19 08:24:27 (195 KB/s) - ‘com-youtube.top5000.cmty.txt.gz’ saved [195662/195662]\n",
            "\n"
          ]
        }
      ],
      "source": [
        "# !pip install gdown --upgrade\n",
        "# !gdown 1qHQ9BUmhJoDLZ40PaVJENmNJyT1_8M8C\n",
        "# !unzip release-youtube-links.zip\n",
        "# !rm release-youtube-links.zip\n",
        "# !wget https://snap.stanford.edu/data/bigdata/communities/com-youtube.ungraph.txt.gz\n",
        "# !gzip -d com-youtube.ungraph.txt.gz\n",
        "!wget https://snap.stanford.edu/data/bigdata/communities/com-youtube.all.cmty.txt.gz\n",
        "!gzip -d com-youtube.all.cmty.txt.gz\n",
        "!wget https://snap.stanford.edu/data/bigdata/communities/com-youtube.top5000.cmty.txt.gz\n",
        "!gzip -d com-youtube.top5000.cmty.txt.gz"
      ]
    },
    {
      "cell_type": "markdown",
      "metadata": {
        "id": "zWLjkIhsjD5m"
      },
      "source": [
        "# Imports"
      ]
    },
    {
      "cell_type": "code",
      "execution_count": 1,
      "metadata": {
        "id": "Yam3Ez1lhax9"
      },
      "outputs": [],
      "source": [
        "import networkx as nx\n",
        "import numpy as np\n",
        "import matplotlib.pyplot as plt"
      ]
    },
    {
      "cell_type": "markdown",
      "metadata": {
        "id": "FpZNm_Pljm6J"
      },
      "source": [
        "# Creating graph"
      ]
    },
    {
      "cell_type": "code",
      "execution_count": 28,
      "metadata": {
        "id": "KQVqauJ6jd4N"
      },
      "outputs": [],
      "source": [
        "G = nx.Graph()\n",
        "lines = []\n",
        "lines_minus_one = []\n",
        "with open('release-youtube-users.txt') as f:\n",
        "    lines = f.readlines()\n",
        "for line in lines:\n",
        "    G.add_node(int(line)-1) \n",
        "    lines_minus_one.append(f\"{int(line)-1}\\n\")\n",
        "with open('release-youtube-users-m1.txt', 'w') as f:\n",
        "    f.writelines(lines_minus_one)\n",
        "lines_minus_one = []\n",
        "with open('release-youtube-links.txt') as f:\n",
        "    lines = f.readlines()\n",
        "for line in lines:\n",
        "    link = line.split()\n",
        "    G.add_edge(int(link[0])-1, int(link[1])-1)\n",
        "    lines_minus_one.append(f\"{int(link[0])-1}\\t{int(link[1])-1}\\n\")\n",
        "with open('release-youtube-links-m1.txt', 'w') as f:\n",
        "    f.writelines(lines_minus_one)"
      ]
    },
    {
      "cell_type": "code",
      "execution_count": 8,
      "metadata": {},
      "outputs": [],
      "source": [
        "lines_minus_one = []\n",
        "with open('com-youtube.all.cmty.txt') as f:\n",
        "    lines = f.readlines()\n",
        "for line in lines:\n",
        "    link = line.split()\n",
        "    elements_m1 = [int(element) - 1 for element in link]\n",
        "    string_to_write = f\"{elements_m1[0]}\"\n",
        "    for k in range(1, len(elements_m1)):\n",
        "        string_to_write = string_to_write + f\"\\t{elements_m1[k]}\"\n",
        "    string_to_write = string_to_write + '\\n'\n",
        "    lines_minus_one.append(string_to_write)\n",
        "with open('com-youtube.all.cmty.txt', 'w') as f:\n",
        "    f.writelines(lines_minus_one)"
      ]
    },
    {
      "cell_type": "markdown",
      "metadata": {
        "id": "AOCfog0qk6m8"
      },
      "source": [
        "# Exploring the graph"
      ]
    },
    {
      "cell_type": "code",
      "execution_count": 5,
      "metadata": {
        "colab": {
          "base_uri": "https://localhost:8080/"
        },
        "id": "QpIIONqvkQ3z",
        "outputId": "ef723727-813f-4871-ad95-b8f0a9ad5466"
      },
      "outputs": [
        {
          "name": "stdout",
          "output_type": "stream",
          "text": [
            "There are 1134890 users\n",
            "There are 2987624 relations\n",
            "There is 1 connected components\n",
            "There are 1134890 users in the greatest connected component\n",
            "There are 2987624 relations in the greatest connected component\n",
            "There is 1 connected components\n"
          ]
        }
      ],
      "source": [
        "G = nx.read_edgelist(\"com-youtube.txt\")\n",
        "\n",
        "print(f\"There are {len(G.nodes())} users\")\n",
        "print(f\"There are {len(G.edges())} relations\")\n",
        "print(f\"There is {nx.number_connected_components(G)} connected components\")\n",
        "largest_cc = max(nx.connected_components(G), key=len)\n",
        "G = G.subgraph(largest_cc).copy()\n",
        "print(f\"There are {len(G.nodes())} users in the greatest connected component\")\n",
        "print(f\"There are {len(G.edges())} relations in the greatest connected component\")\n",
        "print(f\"There is {nx.number_connected_components(G)} connected components\")"
      ]
    },
    {
      "cell_type": "code",
      "execution_count": 6,
      "metadata": {},
      "outputs": [],
      "source": [
        "nx.write_edgelist(G, \"com-youtube-connected\")"
      ]
    },
    {
      "cell_type": "markdown",
      "metadata": {},
      "source": [
        "# Exploring community data"
      ]
    },
    {
      "cell_type": "code",
      "execution_count": 10,
      "metadata": {},
      "outputs": [
        {
          "data": {
            "image/png": "[encoded data removed]",
            "text/plain": [
              "<Figure size 432x288 with 1 Axes>"
            ]
          },
          "metadata": {
            "needs_background": "light"
          },
          "output_type": "display_data"
        }
      ],
      "source": [
        "import matplotlib.pyplot as plt\n",
        "\n",
        "size_of_community = []\n",
        "with open('com-youtube.all.cmty.txt') as f:\n",
        "    lines = f.readlines()\n",
        "for line in lines:\n",
        "    link = line.split()\n",
        "    size_of_community.append(len(link))\n",
        "plt.hist(size_of_community, bins=10)\n",
        "plt.yscale('log')\n",
        "plt.show()"
      ]
    },
    {
      "cell_type": "markdown",
      "metadata": {},
      "source": [
        "# Counting number of people in community aggregations"
      ]
    },
    {
      "cell_type": "markdown",
      "metadata": {},
      "source": [
        "**Be careful : We do not take into account thatr people can belong to several communities at the same time**"
      ]
    },
    {
      "cell_type": "code",
      "execution_count": 7,
      "metadata": {},
      "outputs": [
        {
          "data": {
            "image/png": "[encoded data removed]",
            "text/plain": [
              "<Figure size 432x288 with 1 Axes>"
            ]
          },
          "metadata": {
            "needs_background": "light"
          },
          "output_type": "display_data"
        }
      ],
      "source": [
        "import matplotlib.pyplot as plt\n",
        "\n",
        "size_of_community = []\n",
        "with open('com-youtube.all.cmty.txt') as f:\n",
        "    lines = f.readlines()\n",
        "for line in lines:\n",
        "    link = line.split()\n",
        "    size_of_community.append(len(link))\n",
        "size_of_community = np.array(size_of_community)\n",
        "size_of_community[::-1].sort()\n",
        "size_of_community_cumsum = np.cumsum(size_of_community)\n",
        "plt.plot(size_of_community_cumsum)\n",
        "plt.title(\"Number of nodes if we keep the $k$ biggest communities\")\n",
        "plt.show()"
      ]
    },
    {
      "cell_type": "markdown",
      "metadata": {},
      "source": [
        "Let's say we want to keep at most a certain number of nodes to reduce computational load."
      ]
    },
    {
      "cell_type": "code",
      "execution_count": 8,
      "metadata": {},
      "outputs": [
        {
          "name": "stdout",
          "output_type": "stream",
          "text": [
            "To keep 50000 nodes, we will have to keep the 308 biggest communities.\n"
          ]
        }
      ],
      "source": [
        "limit = 50000\n",
        "for i in range(len(size_of_community_cumsum) - 1):\n",
        "    if size_of_community_cumsum[i] <= limit and size_of_community_cumsum[i+1] > limit:\n",
        "        print(f\"To keep {limit} nodes, we will have to keep the {i} biggest communities.\")\n",
        "        break"
      ]
    },
    {
      "cell_type": "markdown",
      "metadata": {},
      "source": [
        "Now, we plot the number of communities kept depending on the wanted limit."
      ]
    },
    {
      "cell_type": "code",
      "execution_count": 12,
      "metadata": {},
      "outputs": [
        {
          "data": {
            "image/png": "[encoded data removed]",
            "text/plain": [
              "<Figure size 432x288 with 1 Axes>"
            ]
          },
          "metadata": {
            "needs_background": "light"
          },
          "output_type": "display_data"
        }
      ],
      "source": [
        "communities_to_keep = [0]\n",
        "for limit in range(1, np.amax(size_of_community_cumsum)):\n",
        "    for i in range(communities_to_keep[-1], len(size_of_community_cumsum) - 1):\n",
        "        if size_of_community_cumsum[i] <= limit and size_of_community_cumsum[i+1] > limit:\n",
        "            communities_to_keep.append(i)\n",
        "            break\n",
        "        elif size_of_community_cumsum[i] > limit:\n",
        "            communities_to_keep.append(i - 1)\n",
        "            break\n",
        "plt.plot(communities_to_keep)\n",
        "plt.title(\"Maximal number of communities to keep to get less then $k$ nodes\")\n",
        "plt.show()"
      ]
    },
    {
      "cell_type": "code",
      "execution_count": 13,
      "metadata": {},
      "outputs": [
        {
          "name": "stdout",
          "output_type": "stream",
          "text": [
            "To keep 50000 nodes, we will have to keep the 308 biggest communities.\n"
          ]
        }
      ],
      "source": [
        "limit = 50000\n",
        "print(f\"To keep {limit} nodes, we will have to keep the {communities_to_keep[limit]} biggest communities.\")"
      ]
    },
    {
      "cell_type": "markdown",
      "metadata": {},
      "source": [
        "# Keeping a certain number of communities"
      ]
    },
    {
      "cell_type": "code",
      "execution_count": 7,
      "metadata": {},
      "outputs": [],
      "source": [
        "limit = 308"
      ]
    },
    {
      "cell_type": "markdown",
      "metadata": {},
      "source": [
        "Collecting the indexes of nodes to keep and preparing them for renaming (we will need a graph with node indexing in $[[0,N-1]]$)."
      ]
    },
    {
      "cell_type": "code",
      "execution_count": 8,
      "metadata": {},
      "outputs": [
        {
          "name": "stdout",
          "output_type": "stream",
          "text": [
            "The biggest community to keep has 52 nodes.\n",
            "We finally keep 25053 nodes.\n"
          ]
        }
      ],
      "source": [
        "number_of_nodes_in_raw_community = []\n",
        "with open('com-youtube.all.cmty.txt') as f:\n",
        "    raw_communities = f.readlines()\n",
        "for line in raw_communities:\n",
        "    link = line.split()\n",
        "    number_of_nodes_in_raw_community.append(len(link))\n",
        "number_of_nodes_in_raw_community = np.array(number_of_nodes_in_raw_community)\n",
        "number_of_nodes_in_raw_community_sorted = number_of_nodes_in_raw_community.copy()\n",
        "number_of_nodes_in_raw_community_sorted[::-1].sort()\n",
        "print(f\"The biggest community to keep has {number_of_nodes_in_raw_community_sorted[limit-1]} nodes.\")\n",
        "unique_indexes = set()\n",
        "for line in raw_communities:\n",
        "    link = line.split()\n",
        "    if len(link) >= 52:\n",
        "        for element in link:\n",
        "            unique_indexes.add(element)\n",
        "print(f\"We finally keep {len(unique_indexes)} nodes.\")"
      ]
    },
    {
      "cell_type": "markdown",
      "metadata": {},
      "source": [
        "We now rename the nodes so it verifies the indexing requirements of most algorithms."
      ]
    },
    {
      "cell_type": "code",
      "execution_count": 9,
      "metadata": {},
      "outputs": [],
      "source": [
        "unique_indexes_list = list(unique_indexes)\n",
        "new_indexes_list = [i for i in range(len(unique_indexes_list))]\n",
        "conversion_dict = dict()\n",
        "for i in range(len(unique_indexes_list)):\n",
        "    conversion_dict[unique_indexes_list[i]] = new_indexes_list[i]"
      ]
    },
    {
      "cell_type": "code",
      "execution_count": 10,
      "metadata": {},
      "outputs": [
        {
          "name": "stdout",
          "output_type": "stream",
          "text": [
            "Keeping 308 communities.\n"
          ]
        }
      ],
      "source": [
        "pruned_communities = []\n",
        "for line in raw_communities:\n",
        "    link = line.split()\n",
        "    if len(link) >= 52 and len(pruned_communities) < limit:\n",
        "        pruned_communities.append(line)\n",
        "print(f\"Keeping {len(pruned_communities)} communities.\")"
      ]
    },
    {
      "cell_type": "markdown",
      "metadata": {},
      "source": [
        "Now, we have all the information to write files for the pruned network."
      ]
    },
    {
      "cell_type": "code",
      "execution_count": 14,
      "metadata": {},
      "outputs": [],
      "source": [
        "lines = []\n",
        "for node in new_indexes_list:\n",
        "    lines.append(f\"{int(node)}\\n\")\n",
        "with open('./pruned_youtube/release-youtube-users.txt', 'w') as f:\n",
        "    f.writelines(lines)\n",
        "edges = []\n",
        "with open('release-youtube-links.txt') as f:\n",
        "    lines = f.readlines()\n",
        "for line in lines:\n",
        "    link = line.split()\n",
        "    if link[0] in unique_indexes and link[1] in unique_indexes:\n",
        "        edges.append(f\"{conversion_dict[link[0]]}\\t{conversion_dict[link[1]]}\\n\")\n",
        "with open('./pruned_youtube/release-youtube-links.txt', 'w') as f:\n",
        "    f.writelines(edges)\n",
        "lines = []\n",
        "groups = [i + 1 for i in range(limit)]\n",
        "for group in groups:\n",
        "    lines.append(f\"{int(group)}\\n\")\n",
        "with open('./pruned_youtube/release-youtube-groups.txt', 'w') as f:\n",
        "    f.writelines(lines)\n",
        "pruned_renamed_communities = []\n",
        "for community in pruned_communities:\n",
        "    link = community.split()\n",
        "    for i in range(len(link)):\n",
        "        link[i] = conversion_dict[link[i]]\n",
        "    string_to_write = f\"{link[0]}\"\n",
        "    for i in range(1, len(link)):\n",
        "        string_to_write += f\"\\t{link[i]}\"\n",
        "    string_to_write += '\\n'\n",
        "    pruned_renamed_communities.append(string_to_write)\n",
        "with open('./pruned_youtube/release-youtube.cmty.txt', 'w') as f:\n",
        "    f.writelines(pruned_renamed_communities)"
      ]
    },
    {
      "cell_type": "markdown",
      "metadata": {},
      "source": [
        "We now load the pruned data and make it connected."
      ]
    },
    {
      "cell_type": "code",
      "execution_count": 15,
      "metadata": {},
      "outputs": [
        {
          "name": "stdout",
          "output_type": "stream",
          "text": [
            "There are 13736 users\n",
            "There are 41365 relations\n",
            "There is 205 connected components\n",
            "There are 13232 users in the greatest connected component\n",
            "There are 41011 relations in the greatest connected component\n",
            "There is 1 connected components\n"
          ]
        }
      ],
      "source": [
        "G = nx.read_edgelist(\"./pruned_youtube/release-youtube-links.txt\")\n",
        "\n",
        "print(f\"There are {len(G.nodes())} users\")\n",
        "print(f\"There are {len(G.edges())} relations\")\n",
        "print(f\"There is {nx.number_connected_components(G)} connected components\")\n",
        "largest_cc = max(nx.connected_components(G), key=len)\n",
        "G = G.subgraph(largest_cc).copy()\n",
        "print(f\"There are {len(G.nodes())} users in the greatest connected component\")\n",
        "print(f\"There are {len(G.edges())} relations in the greatest connected component\")\n",
        "print(f\"There is {nx.number_connected_components(G)} connected components\")"
      ]
    },
    {
      "cell_type": "code",
      "execution_count": 27,
      "metadata": {},
      "outputs": [],
      "source": [
        "nodes = G.nodes()\n",
        "nodes = np.array(nodes).astype('int')\n",
        "nodes_set = set(nodes)\n",
        "nodes_new = np.array([i for i in range(nodes.shape[0])])\n",
        "conversion_dict = dict()\n",
        "for i in range(nodes.shape[0]):\n",
        "    conversion_dict[str(nodes[i])] = nodes_new[i]\n",
        "edges = G.edges()\n",
        "edges = np.array(edges).astype('int')"
      ]
    },
    {
      "cell_type": "code",
      "execution_count": 39,
      "metadata": {},
      "outputs": [],
      "source": [
        "lines = []\n",
        "for node in nodes_new:\n",
        "    lines.append(f\"{node}\\n\")\n",
        "with open('./pruned_connected_youtube/release-youtube-users.txt', 'w') as f:\n",
        "    f.writelines(lines)\n",
        "G = nx.relabel_nodes(G, conversion_dict)\n",
        "nx.write_edgelist(G, './pruned_connected_youtube/release-youtube-links.txt')\n",
        "communities = []\n",
        "with open('./pruned_youtube/release-youtube.cmty.txt') as f:\n",
        "    raw_communities = f.readlines()\n",
        "for line in raw_communities:\n",
        "    link = line.split()\n",
        "    communities.append(link)\n",
        "for i in range(len(communities)):\n",
        "    for j in range(len(communities[i])):\n",
        "        try:\n",
        "            communities[i][j] = conversion_dict[communities[i][j]]\n",
        "        except:\n",
        "            communities[i][j] = ''\n",
        "for i in range(len(communities)):\n",
        "    communities[i] = list(filter(lambda a: a != '', communities[i]))\n",
        "unique_indexes = set()\n",
        "for i in range(len(communities)):\n",
        "    for j in range(len(communities[i])):\n",
        "        unique_indexes.add(communities[i][j])\n",
        "pruned_renamed_communities = []\n",
        "for community in communities:\n",
        "    string_to_write = f\"{community[0]}\"\n",
        "    for i in range(1, len(community)):\n",
        "        string_to_write += f\"\\t{community[i]}\"\n",
        "    string_to_write += '\\n'\n",
        "    pruned_renamed_communities.append(string_to_write)\n",
        "with open('./pruned_connected_youtube/release-youtube.cmty.txt', 'w') as f:\n",
        "    f.writelines(pruned_renamed_communities)"
      ]
    },
    {
      "cell_type": "markdown",
      "metadata": {},
      "source": [
        "# Getting the average community belonging"
      ]
    },
    {
      "cell_type": "code",
      "execution_count": 1,
      "metadata": {},
      "outputs": [],
      "source": [
        "import numpy as np\n",
        "\n",
        "with open(\"./pruned_connected_youtube/release-youtube.cmty.txt\") as f:\n",
        "    ground_truth = f.readlines()\n",
        "for i in range(len(ground_truth)):\n",
        "    ground_truth[i] = ground_truth[i].split()\n",
        "    for j in range(len(ground_truth[i])):\n",
        "        ground_truth[i][j] = int(ground_truth[i][j])\n",
        "    ground_truth[i] = set(ground_truth[i])"
      ]
    },
    {
      "cell_type": "code",
      "execution_count": 23,
      "metadata": {},
      "outputs": [
        {
          "name": "stdout",
          "output_type": "stream",
          "text": [
            "There are 13210 users and 308 communities.\n"
          ]
        }
      ],
      "source": [
        "complete_set = set()\n",
        "for i in range(len(ground_truth)):\n",
        "    complete_set = complete_set.union(ground_truth[i])\n",
        "print(f\"There are {len(complete_set)} users and {len(ground_truth)} communities.\")"
      ]
    },
    {
      "cell_type": "code",
      "execution_count": 10,
      "metadata": {},
      "outputs": [],
      "source": [
        "ground_truth_list = []\n",
        "for i in range(len(ground_truth)):\n",
        "    ground_truth_list.append(list(ground_truth[i]))\n",
        "all_users = list(complete_set)\n",
        "new_indexes = [i for i in range(len(all_users))]\n",
        "conv_dict = dict()\n",
        "for i in range(len(all_users)):\n",
        "    conv_dict[all_users[i]] = i\n",
        "belongings = [0 for _ in range(len(all_users))]\n",
        "for i in range(len(ground_truth_list)):\n",
        "    for j in range(len(ground_truth_list[i])):\n",
        "        belongings[conv_dict[ground_truth_list[i][j]]] += 1"
      ]
    },
    {
      "cell_type": "code",
      "execution_count": 18,
      "metadata": {},
      "outputs": [
        {
          "data": {
            "image/png": "[encoded data removed]",
            "text/plain": [
              "<Figure size 432x288 with 1 Axes>"
            ]
          },
          "metadata": {
            "needs_background": "light"
          },
          "output_type": "display_data"
        }
      ],
      "source": [
        "import matplotlib.pyplot as plt\n",
        "\n",
        "plt.hist(belongings, bins=44)\n",
        "plt.title(\"Histogram of the number of users belonging to a certain number of communities\")\n",
        "plt.xlabel(\"Number of communities\")\n",
        "plt.ylabel(\"Number of users\")\n",
        "plt.show()"
      ]
    },
    {
      "cell_type": "code",
      "execution_count": 15,
      "metadata": {},
      "outputs": [
        {
          "name": "stdout",
          "output_type": "stream",
          "text": [
            "In average, users belong to 2.1713853141559425 communities.\n"
          ]
        }
      ],
      "source": [
        "print(f\"In average, users belong to {np.mean(belongings)} communities.\")"
      ]
    },
    {
      "cell_type": "code",
      "execution_count": 22,
      "metadata": {},
      "outputs": [
        {
          "name": "stdout",
          "output_type": "stream",
          "text": [
            "40.0227100681302% of users belong to 2 or more communities.\n"
          ]
        }
      ],
      "source": [
        "count = 0\n",
        "limit = 2\n",
        "for b in belongings:\n",
        "    if b >= limit:\n",
        "        count += 1\n",
        "print(f\"{100*count/len(belongings)}% of users belong to {limit} or more communities.\")"
      ]
    },
    {
      "cell_type": "code",
      "execution_count": 28,
      "metadata": {},
      "outputs": [
        {
          "name": "stdout",
          "output_type": "stream",
          "text": [
            "2\n",
            "1494\n"
          ]
        },
        {
          "data": {
            "image/png": "[encoded data removed]",
            "text/plain": [
              "<Figure size 432x288 with 1 Axes>"
            ]
          },
          "metadata": {
            "needs_background": "light"
          },
          "output_type": "display_data"
        }
      ],
      "source": [
        "len_of_communities = []\n",
        "for i in range(len(ground_truth)):\n",
        "    len_of_communities.append(len(ground_truth[i]))\n",
        "print(np.amin(len_of_communities))\n",
        "print(np.amax(len_of_communities))\n",
        "plt.hist(len_of_communities, bins=50)\n",
        "plt.xlabel(\"Size of communities\")\n",
        "plt.ylabel(\"Number of communities\")\n",
        "plt.show()"
      ]
    },
    {
      "cell_type": "code",
      "execution_count": null,
      "metadata": {},
      "outputs": [],
      "source": []
    }
  ],
  "metadata": {
    "accelerator": "GPU",
    "colab": {
      "name": "MLNS - projet.ipynb",
      "provenance": []
    },
    "kernelspec": {
      "display_name": "Python 3",
      "name": "python3"
    },
    "language_info": {
      "codemirror_mode": {
        "name": "ipython",
        "version": 3
      },
      "file_extension": ".py",
      "mimetype": "text/x-python",
      "name": "python",
      "nbconvert_exporter": "python",
      "pygments_lexer": "ipython3",
      "version": "3.8.10"
    }
  },
  "nbformat": 4,
  "nbformat_minor": 0
}
