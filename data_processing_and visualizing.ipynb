{
  "cells": [
    {
      "cell_type": "markdown",
      "metadata": {
        "id": "lM1to7rogN4A"
      },
      "source": [
        "# Downloading data"
      ]
    },
    {
      "cell_type": "code",
      "execution_count": 6,
      "metadata": {
        "colab": {
          "base_uri": "https://localhost:8080/"
        },
        "id": "ma2c_U7gfw4Q",
        "outputId": "07ec8e8e-c119-46ea-b78a-8428b535e2e8"
      },
      "outputs": [
        {
          "name": "stdout",
          "output_type": "stream",
          "text": [
            "--2022-03-19 08:24:14--  https://snap.stanford.edu/data/bigdata/communities/com-youtube.all.cmty.txt.gz\n",
            "Resolving snap.stanford.edu (snap.stanford.edu)... 171.64.75.80, 198.41.0.4, 199.9.14.201, ...\n",
            "Connecting to snap.stanford.edu (snap.stanford.edu)|171.64.75.80|:443... connected.\n",
            "HTTP request sent, awaiting response... 200 OK\n",
            "Length: 341486 (333K) [application/x-gzip]\n",
            "Saving to: ‘com-youtube.all.cmty.txt.gz’\n",
            "\n",
            "com-youtube.all.cmt 100%[===================>] 333.48K  52.9KB/s    in 6.3s    \n",
            "\n",
            "2022-03-19 08:24:25 (52.9 KB/s) - ‘com-youtube.all.cmty.txt.gz’ saved [341486/341486]\n",
            "\n",
            "--2022-03-19 08:24:26--  https://snap.stanford.edu/data/bigdata/communities/com-youtube.top5000.cmty.txt.gz\n",
            "Resolving snap.stanford.edu (snap.stanford.edu)... 171.64.75.80, 198.41.0.4, 199.9.14.201, ...\n",
            "Connecting to snap.stanford.edu (snap.stanford.edu)|171.64.75.80|:443... connected.\n",
            "HTTP request sent, awaiting response... 200 OK\n",
            "Length: 195662 (191K) [application/x-gzip]\n",
            "Saving to: ‘com-youtube.top5000.cmty.txt.gz’\n",
            "\n",
            "com-youtube.top5000 100%[===================>] 191.08K   195KB/s    in 1.0s    \n",
            "\n",
            "2022-03-19 08:24:27 (195 KB/s) - ‘com-youtube.top5000.cmty.txt.gz’ saved [195662/195662]\n",
            "\n"
          ]
        }
      ],
      "source": [
        "# !pip install gdown --upgrade\n",
        "# !gdown 1qHQ9BUmhJoDLZ40PaVJENmNJyT1_8M8C\n",
        "# !unzip release-youtube-links.zip\n",
        "# !rm release-youtube-links.zip\n",
        "# !wget https://snap.stanford.edu/data/bigdata/communities/com-youtube.ungraph.txt.gz\n",
        "# !gzip -d com-youtube.ungraph.txt.gz\n",
        "!wget https://snap.stanford.edu/data/bigdata/communities/com-youtube.all.cmty.txt.gz\n",
        "!gzip -d com-youtube.all.cmty.txt.gz\n",
        "!wget https://snap.stanford.edu/data/bigdata/communities/com-youtube.top5000.cmty.txt.gz\n",
        "!gzip -d com-youtube.top5000.cmty.txt.gz"
      ]
    },
    {
      "cell_type": "markdown",
      "metadata": {
        "id": "zWLjkIhsjD5m"
      },
      "source": [
        "# Imports"
      ]
    },
    {
      "cell_type": "code",
      "execution_count": 3,
      "metadata": {
        "id": "Yam3Ez1lhax9"
      },
      "outputs": [],
      "source": [
        "import networkx as nx\n",
        "import numpy as np\n",
        "import matplotlib.pyplot as plt"
      ]
    },
    {
      "cell_type": "markdown",
      "metadata": {
        "id": "FpZNm_Pljm6J"
      },
      "source": [
        "# Creating graph"
      ]
    },
    {
      "cell_type": "code",
      "execution_count": 28,
      "metadata": {
        "id": "KQVqauJ6jd4N"
      },
      "outputs": [],
      "source": [
        "G = nx.Graph()\n",
        "lines = []\n",
        "lines_minus_one = []\n",
        "with open('release-youtube-users.txt') as f:\n",
        "    lines = f.readlines()\n",
        "for line in lines:\n",
        "    G.add_node(int(line)-1) \n",
        "    lines_minus_one.append(f\"{int(line)-1}\\n\")\n",
        "with open('release-youtube-users-m1.txt', 'w') as f:\n",
        "    f.writelines(lines_minus_one)\n",
        "lines_minus_one = []\n",
        "with open('release-youtube-links.txt') as f:\n",
        "    lines = f.readlines()\n",
        "for line in lines:\n",
        "    link = line.split()\n",
        "    G.add_edge(int(link[0])-1, int(link[1])-1)\n",
        "    lines_minus_one.append(f\"{int(link[0])-1}\\t{int(link[1])-1}\\n\")\n",
        "with open('release-youtube-links-m1.txt', 'w') as f:\n",
        "    f.writelines(lines_minus_one)"
      ]
    },
    {
      "cell_type": "code",
      "execution_count": 8,
      "metadata": {},
      "outputs": [],
      "source": [
        "lines_minus_one = []\n",
        "with open('com-youtube.all.cmty.txt') as f:\n",
        "    lines = f.readlines()\n",
        "for line in lines:\n",
        "    link = line.split()\n",
        "    elements_m1 = [int(element) - 1 for element in link]\n",
        "    string_to_write = f\"{elements_m1[0]}\"\n",
        "    for k in range(1, len(elements_m1)):\n",
        "        string_to_write = string_to_write + f\"\\t{elements_m1[k]}\"\n",
        "    string_to_write = string_to_write + '\\n'\n",
        "    lines_minus_one.append(string_to_write)\n",
        "with open('com-youtube.all.cmty.txt', 'w') as f:\n",
        "    f.writelines(lines_minus_one)"
      ]
    },
    {
      "cell_type": "markdown",
      "metadata": {
        "id": "AOCfog0qk6m8"
      },
      "source": [
        "# Exploring the graph"
      ]
    },
    {
      "cell_type": "code",
      "execution_count": 5,
      "metadata": {
        "colab": {
          "base_uri": "https://localhost:8080/"
        },
        "id": "QpIIONqvkQ3z",
        "outputId": "ef723727-813f-4871-ad95-b8f0a9ad5466"
      },
      "outputs": [
        {
          "name": "stdout",
          "output_type": "stream",
          "text": [
            "There are 1134890 users\n",
            "There are 2987624 relations\n",
            "There is 1 connected components\n",
            "There are 1134890 users in the greatest connected component\n",
            "There are 2987624 relations in the greatest connected component\n",
            "There is 1 connected components\n"
          ]
        }
      ],
      "source": [
        "G = nx.read_edgelist(\"com-youtube.txt\")\n",
        "\n",
        "print(f\"There are {len(G.nodes())} users\")\n",
        "print(f\"There are {len(G.edges())} relations\")\n",
        "print(f\"There is {nx.number_connected_components(G)} connected components\")\n",
        "largest_cc = max(nx.connected_components(G), key=len)\n",
        "G = G.subgraph(largest_cc).copy()\n",
        "print(f\"There are {len(G.nodes())} users in the greatest connected component\")\n",
        "print(f\"There are {len(G.edges())} relations in the greatest connected component\")\n",
        "print(f\"There is {nx.number_connected_components(G)} connected components\")"
      ]
    },
    {
      "cell_type": "code",
      "execution_count": 6,
      "metadata": {},
      "outputs": [],
      "source": [
        "nx.write_edgelist(G, \"com-youtube-connected\")"
      ]
    },
    {
      "cell_type": "code",
      "execution_count": null,
      "metadata": {},
      "outputs": [],
      "source": []
    }
  ],
  "metadata": {
    "accelerator": "GPU",
    "colab": {
      "name": "MLNS - projet.ipynb",
      "provenance": []
    },
    "kernelspec": {
      "display_name": "Python 3",
      "name": "python3"
    },
    "language_info": {
      "codemirror_mode": {
        "name": "ipython",
        "version": 3
      },
      "file_extension": ".py",
      "mimetype": "text/x-python",
      "name": "python",
      "nbconvert_exporter": "python",
      "pygments_lexer": "ipython3",
      "version": "3.8.10"
    }
  },
  "nbformat": 4,
  "nbformat_minor": 0
}
